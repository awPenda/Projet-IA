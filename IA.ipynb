{
 "cells": [
  {
   "cell_type": "code",
   "execution_count": 2,
   "id": "b6d6a8da",
   "metadata": {},
   "outputs": [
    {
     "data": {
      "text/html": [
       "<div>\n",
       "<style scoped>\n",
       "    .dataframe tbody tr th:only-of-type {\n",
       "        vertical-align: middle;\n",
       "    }\n",
       "\n",
       "    .dataframe tbody tr th {\n",
       "        vertical-align: top;\n",
       "    }\n",
       "\n",
       "    .dataframe thead th {\n",
       "        text-align: right;\n",
       "    }\n",
       "</style>\n",
       "<table border=\"1\" class=\"dataframe\">\n",
       "  <thead>\n",
       "    <tr style=\"text-align: right;\">\n",
       "      <th></th>\n",
       "      <th>EmployeeID</th>\n",
       "      <th>EnvironmentSatisfaction</th>\n",
       "      <th>JobSatisfaction</th>\n",
       "      <th>WorkLifeBalance</th>\n",
       "    </tr>\n",
       "  </thead>\n",
       "  <tbody>\n",
       "    <tr>\n",
       "      <th>0</th>\n",
       "      <td>1</td>\n",
       "      <td>3.0</td>\n",
       "      <td>4.0</td>\n",
       "      <td>2.0</td>\n",
       "    </tr>\n",
       "  </tbody>\n",
       "</table>\n",
       "</div>"
      ],
      "text/plain": [
       "   EmployeeID  EnvironmentSatisfaction  JobSatisfaction  WorkLifeBalance\n",
       "0           1                      3.0              4.0              2.0"
      ]
     },
     "execution_count": 2,
     "metadata": {},
     "output_type": "execute_result"
    }
   ],
   "source": [
    "import pandas as pd\n",
    "\n",
    "employee_survey = pd.read_csv('data/raw/employee_survey_data.csv')\n",
    "employee_survey.head(1)"
   ]
  },
  {
   "cell_type": "code",
   "execution_count": 3,
   "id": "85be5c56",
   "metadata": {},
   "outputs": [
    {
     "data": {
      "text/html": [
       "<div>\n",
       "<style scoped>\n",
       "    .dataframe tbody tr th:only-of-type {\n",
       "        vertical-align: middle;\n",
       "    }\n",
       "\n",
       "    .dataframe tbody tr th {\n",
       "        vertical-align: top;\n",
       "    }\n",
       "\n",
       "    .dataframe thead th {\n",
       "        text-align: right;\n",
       "    }\n",
       "</style>\n",
       "<table border=\"1\" class=\"dataframe\">\n",
       "  <thead>\n",
       "    <tr style=\"text-align: right;\">\n",
       "      <th></th>\n",
       "      <th>EmployeeID</th>\n",
       "      <th>JobInvolvement</th>\n",
       "      <th>PerformanceRating</th>\n",
       "    </tr>\n",
       "  </thead>\n",
       "  <tbody>\n",
       "    <tr>\n",
       "      <th>0</th>\n",
       "      <td>1</td>\n",
       "      <td>3</td>\n",
       "      <td>3</td>\n",
       "    </tr>\n",
       "  </tbody>\n",
       "</table>\n",
       "</div>"
      ],
      "text/plain": [
       "   EmployeeID  JobInvolvement  PerformanceRating\n",
       "0           1               3                  3"
      ]
     },
     "execution_count": 3,
     "metadata": {},
     "output_type": "execute_result"
    }
   ],
   "source": [
    "manager_survey = pd.read_csv('data/raw/manager_survey_data.csv')\n",
    "manager_survey.head(1)"
   ]
  },
  {
   "cell_type": "code",
   "execution_count": 4,
   "id": "1a75289e",
   "metadata": {},
   "outputs": [
    {
     "data": {
      "text/html": [
       "<div>\n",
       "<style scoped>\n",
       "    .dataframe tbody tr th:only-of-type {\n",
       "        vertical-align: middle;\n",
       "    }\n",
       "\n",
       "    .dataframe tbody tr th {\n",
       "        vertical-align: top;\n",
       "    }\n",
       "\n",
       "    .dataframe thead th {\n",
       "        text-align: right;\n",
       "    }\n",
       "</style>\n",
       "<table border=\"1\" class=\"dataframe\">\n",
       "  <thead>\n",
       "    <tr style=\"text-align: right;\">\n",
       "      <th></th>\n",
       "      <th>Age</th>\n",
       "      <th>Attrition</th>\n",
       "      <th>BusinessTravel</th>\n",
       "      <th>Department</th>\n",
       "      <th>DistanceFromHome</th>\n",
       "      <th>Education</th>\n",
       "      <th>EducationField</th>\n",
       "      <th>EmployeeCount</th>\n",
       "      <th>EmployeeID</th>\n",
       "      <th>Gender</th>\n",
       "      <th>...</th>\n",
       "      <th>NumCompaniesWorked</th>\n",
       "      <th>Over18</th>\n",
       "      <th>PercentSalaryHike</th>\n",
       "      <th>StandardHours</th>\n",
       "      <th>StockOptionLevel</th>\n",
       "      <th>TotalWorkingYears</th>\n",
       "      <th>TrainingTimesLastYear</th>\n",
       "      <th>YearsAtCompany</th>\n",
       "      <th>YearsSinceLastPromotion</th>\n",
       "      <th>YearsWithCurrManager</th>\n",
       "    </tr>\n",
       "  </thead>\n",
       "  <tbody>\n",
       "    <tr>\n",
       "      <th>0</th>\n",
       "      <td>51</td>\n",
       "      <td>No</td>\n",
       "      <td>Travel_Rarely</td>\n",
       "      <td>Sales</td>\n",
       "      <td>6</td>\n",
       "      <td>2</td>\n",
       "      <td>Life Sciences</td>\n",
       "      <td>1</td>\n",
       "      <td>1</td>\n",
       "      <td>Female</td>\n",
       "      <td>...</td>\n",
       "      <td>1.0</td>\n",
       "      <td>Y</td>\n",
       "      <td>11</td>\n",
       "      <td>8</td>\n",
       "      <td>0</td>\n",
       "      <td>1.0</td>\n",
       "      <td>6</td>\n",
       "      <td>1</td>\n",
       "      <td>0</td>\n",
       "      <td>0</td>\n",
       "    </tr>\n",
       "  </tbody>\n",
       "</table>\n",
       "<p>1 rows × 24 columns</p>\n",
       "</div>"
      ],
      "text/plain": [
       "   Age Attrition BusinessTravel Department  DistanceFromHome  Education  \\\n",
       "0   51        No  Travel_Rarely      Sales                 6          2   \n",
       "\n",
       "  EducationField  EmployeeCount  EmployeeID  Gender  ...  NumCompaniesWorked  \\\n",
       "0  Life Sciences              1           1  Female  ...                 1.0   \n",
       "\n",
       "  Over18 PercentSalaryHike  StandardHours  StockOptionLevel TotalWorkingYears  \\\n",
       "0      Y                11              8                 0               1.0   \n",
       "\n",
       "   TrainingTimesLastYear  YearsAtCompany  YearsSinceLastPromotion  \\\n",
       "0                      6               1                        0   \n",
       "\n",
       "   YearsWithCurrManager  \n",
       "0                     0  \n",
       "\n",
       "[1 rows x 24 columns]"
      ]
     },
     "execution_count": 4,
     "metadata": {},
     "output_type": "execute_result"
    }
   ],
   "source": [
    "general_data = pd.read_csv('data/raw/general_data.csv')\n",
    "general_data.head(1)"
   ]
  },
  {
   "cell_type": "code",
   "execution_count": 5,
   "id": "7de31507",
   "metadata": {},
   "outputs": [
    {
     "data": {
      "text/plain": [
       "((4410, 262), (4410, 262))"
      ]
     },
     "execution_count": 5,
     "metadata": {},
     "output_type": "execute_result"
    }
   ],
   "source": [
    "import zipfile\n",
    "import os\n",
    "\n",
    "def get_in_out_time(DATA_DIR: str = 'data/raw') -> tuple[pd.DataFrame, pd.DataFrame]:\n",
    "    join = os.path.join\n",
    "    with zipfile.ZipFile(join(DATA_DIR,'in_out_time.zip'), 'r') as zip_ref:\n",
    "        zip_ref.extractall(DATA_DIR)\n",
    "    in_time = pd.read_csv(join(DATA_DIR,'in_time.csv'))\n",
    "    out_time = pd.read_csv(join(DATA_DIR, 'out_time.csv'))\n",
    "\n",
    "    # rename first column to 'EmployeeID'\n",
    "    in_time.rename(columns={'Unnamed: 0': 'EmployeeID'}, inplace=True)\n",
    "    out_time.rename(columns={'Unnamed: 0': 'EmployeeID'}, inplace=True)\n",
    "\n",
    "    return in_time, out_time\n",
    "\n",
    "in_time, out_time = get_in_out_time()\n",
    "in_time.shape, out_time.shape"
   ]
  },
  {
   "cell_type": "code",
   "execution_count": 15,
   "id": "cb54553e",
   "metadata": {},
   "outputs": [
    {
     "ename": "TypeError",
     "evalue": "Index(...) must be called with a collection of some kind, False was passed",
     "output_type": "error",
     "traceback": [
      "\u001b[0;31m---------------------------------------------------------------------------\u001b[0m",
      "\u001b[0;31mTypeError\u001b[0m                                 Traceback (most recent call last)",
      "\u001b[1;32m/home/kram/dev/a4/ia/projet/IA.ipynb Cell 5\u001b[0m in \u001b[0;36m<cell line: 0>\u001b[0;34m()\u001b[0m\n\u001b[1;32m     <a href='vscode-notebook-cell:/home/kram/dev/a4/ia/projet/IA.ipynb#W4sZmlsZQ%3D%3D?line=26'>27</a>\u001b[0m     in_out_times\u001b[39m.\u001b[39mindex \u001b[39m=\u001b[39m \u001b[39mFalse\u001b[39;00m\n\u001b[1;32m     <a href='vscode-notebook-cell:/home/kram/dev/a4/ia/projet/IA.ipynb#W4sZmlsZQ%3D%3D?line=27'>28</a>\u001b[0m     \u001b[39mreturn\u001b[39;00m in_out_times\n\u001b[0;32m---> <a href='vscode-notebook-cell:/home/kram/dev/a4/ia/projet/IA.ipynb#W4sZmlsZQ%3D%3D?line=30'>31</a>\u001b[0m in_out_time \u001b[39m=\u001b[39m merge_times(in_time, out_time)\n\u001b[1;32m     <a href='vscode-notebook-cell:/home/kram/dev/a4/ia/projet/IA.ipynb#W4sZmlsZQ%3D%3D?line=32'>33</a>\u001b[0m PROCESS_DIR \u001b[39m=\u001b[39m \u001b[39m'\u001b[39m\u001b[39mdata/processed\u001b[39m\u001b[39m'\u001b[39m\n\u001b[1;32m     <a href='vscode-notebook-cell:/home/kram/dev/a4/ia/projet/IA.ipynb#W4sZmlsZQ%3D%3D?line=33'>34</a>\u001b[0m \u001b[39mif\u001b[39;00m \u001b[39mnot\u001b[39;00m os\u001b[39m.\u001b[39mpath\u001b[39m.\u001b[39mexists(PROCESS_DIR):\n",
      "\u001b[1;32m/home/kram/dev/a4/ia/projet/IA.ipynb Cell 5\u001b[0m in \u001b[0;36mmerge_times\u001b[0;34m(in_t, out_t)\u001b[0m\n\u001b[1;32m     <a href='vscode-notebook-cell:/home/kram/dev/a4/ia/projet/IA.ipynb#W4sZmlsZQ%3D%3D?line=22'>23</a>\u001b[0m out_t\u001b[39m.\u001b[39mcolumns \u001b[39m=\u001b[39m [\u001b[39m'\u001b[39m\u001b[39mEmployeeID\u001b[39m\u001b[39m'\u001b[39m] \u001b[39m+\u001b[39m \\\n\u001b[1;32m     <a href='vscode-notebook-cell:/home/kram/dev/a4/ia/projet/IA.ipynb#W4sZmlsZQ%3D%3D?line=23'>24</a>\u001b[0m     [\u001b[39m'\u001b[39m\u001b[39mout_\u001b[39m\u001b[39m'\u001b[39m \u001b[39m+\u001b[39m col \u001b[39mfor\u001b[39;00m col \u001b[39min\u001b[39;00m out_t\u001b[39m.\u001b[39mcolumns[\u001b[39m1\u001b[39m:]]\n\u001b[1;32m     <a href='vscode-notebook-cell:/home/kram/dev/a4/ia/projet/IA.ipynb#W4sZmlsZQ%3D%3D?line=25'>26</a>\u001b[0m in_out_times \u001b[39m=\u001b[39m pd\u001b[39m.\u001b[39mmerge(in_t, out_t, on\u001b[39m=\u001b[39m\u001b[39m'\u001b[39m\u001b[39mEmployeeID\u001b[39m\u001b[39m'\u001b[39m)\n\u001b[0;32m---> <a href='vscode-notebook-cell:/home/kram/dev/a4/ia/projet/IA.ipynb#W4sZmlsZQ%3D%3D?line=26'>27</a>\u001b[0m in_out_times\u001b[39m.\u001b[39;49mindex \u001b[39m=\u001b[39m \u001b[39mFalse\u001b[39;00m\n\u001b[1;32m     <a href='vscode-notebook-cell:/home/kram/dev/a4/ia/projet/IA.ipynb#W4sZmlsZQ%3D%3D?line=27'>28</a>\u001b[0m \u001b[39mreturn\u001b[39;00m in_out_times\n",
      "File \u001b[0;32m/nix/store/s3kvkvkghrzfqb5wzn1nzyk1105xz7kj-python3.11-pandas-1.5.2/lib/python3.11/site-packages/pandas/core/generic.py:5915\u001b[0m, in \u001b[0;36mNDFrame.__setattr__\u001b[0;34m(self, name, value)\u001b[0m\n\u001b[1;32m   5913\u001b[0m \u001b[39mtry\u001b[39;00m:\n\u001b[1;32m   5914\u001b[0m     \u001b[39mobject\u001b[39m\u001b[39m.\u001b[39m\u001b[39m__getattribute__\u001b[39m(\u001b[39mself\u001b[39m, name)\n\u001b[0;32m-> 5915\u001b[0m     \u001b[39mreturn\u001b[39;00m \u001b[39mobject\u001b[39;49m\u001b[39m.\u001b[39;49m\u001b[39m__setattr__\u001b[39;49m(\u001b[39mself\u001b[39;49m, name, value)\n\u001b[1;32m   5916\u001b[0m \u001b[39mexcept\u001b[39;00m \u001b[39mAttributeError\u001b[39;00m:\n\u001b[1;32m   5917\u001b[0m     \u001b[39mpass\u001b[39;00m\n",
      "File \u001b[0;32m/nix/store/s3kvkvkghrzfqb5wzn1nzyk1105xz7kj-python3.11-pandas-1.5.2/lib/python3.11/site-packages/pandas/_libs/properties.pyx:69\u001b[0m, in \u001b[0;36mpandas._libs.properties.AxisProperty.__set__\u001b[0;34m()\u001b[0m\n",
      "File \u001b[0;32m/nix/store/s3kvkvkghrzfqb5wzn1nzyk1105xz7kj-python3.11-pandas-1.5.2/lib/python3.11/site-packages/pandas/core/generic.py:822\u001b[0m, in \u001b[0;36mNDFrame._set_axis\u001b[0;34m(self, axis, labels)\u001b[0m\n\u001b[1;32m    821\u001b[0m \u001b[39mdef\u001b[39;00m \u001b[39m_set_axis\u001b[39m(\u001b[39mself\u001b[39m, axis: \u001b[39mint\u001b[39m, labels: AnyArrayLike \u001b[39m|\u001b[39m \u001b[39mlist\u001b[39m) \u001b[39m-\u001b[39m\u001b[39m>\u001b[39m \u001b[39mNone\u001b[39;00m:\n\u001b[0;32m--> 822\u001b[0m     labels \u001b[39m=\u001b[39m ensure_index(labels)\n\u001b[1;32m    823\u001b[0m     \u001b[39mself\u001b[39m\u001b[39m.\u001b[39m_mgr\u001b[39m.\u001b[39mset_axis(axis, labels)\n\u001b[1;32m    824\u001b[0m     \u001b[39mself\u001b[39m\u001b[39m.\u001b[39m_clear_item_cache()\n",
      "File \u001b[0;32m/nix/store/s3kvkvkghrzfqb5wzn1nzyk1105xz7kj-python3.11-pandas-1.5.2/lib/python3.11/site-packages/pandas/core/indexes/base.py:7376\u001b[0m, in \u001b[0;36mensure_index\u001b[0;34m(index_like, copy)\u001b[0m\n\u001b[1;32m   7374\u001b[0m         \u001b[39mreturn\u001b[39;00m Index\u001b[39m.\u001b[39m_with_infer(index_like, copy\u001b[39m=\u001b[39mcopy, tupleize_cols\u001b[39m=\u001b[39m\u001b[39mFalse\u001b[39;00m)\n\u001b[1;32m   7375\u001b[0m \u001b[39melse\u001b[39;00m:\n\u001b[0;32m-> 7376\u001b[0m     \u001b[39mreturn\u001b[39;00m Index\u001b[39m.\u001b[39;49m_with_infer(index_like, copy\u001b[39m=\u001b[39;49mcopy)\n",
      "File \u001b[0;32m/nix/store/s3kvkvkghrzfqb5wzn1nzyk1105xz7kj-python3.11-pandas-1.5.2/lib/python3.11/site-packages/pandas/core/indexes/base.py:717\u001b[0m, in \u001b[0;36mIndex._with_infer\u001b[0;34m(cls, *args, **kwargs)\u001b[0m\n\u001b[1;32m    715\u001b[0m \u001b[39mwith\u001b[39;00m warnings\u001b[39m.\u001b[39mcatch_warnings():\n\u001b[1;32m    716\u001b[0m     warnings\u001b[39m.\u001b[39mfilterwarnings(\u001b[39m\"\u001b[39m\u001b[39mignore\u001b[39m\u001b[39m\"\u001b[39m, \u001b[39m\"\u001b[39m\u001b[39m.*the Index constructor\u001b[39m\u001b[39m\"\u001b[39m, \u001b[39mFutureWarning\u001b[39;00m)\n\u001b[0;32m--> 717\u001b[0m     result \u001b[39m=\u001b[39m \u001b[39mcls\u001b[39;49m(\u001b[39m*\u001b[39;49margs, \u001b[39m*\u001b[39;49m\u001b[39m*\u001b[39;49mkwargs)\n\u001b[1;32m    719\u001b[0m \u001b[39mif\u001b[39;00m result\u001b[39m.\u001b[39mdtype \u001b[39m==\u001b[39m _dtype_obj \u001b[39mand\u001b[39;00m \u001b[39mnot\u001b[39;00m result\u001b[39m.\u001b[39m_is_multi:\n\u001b[1;32m    720\u001b[0m     \u001b[39m# error: Argument 1 to \"maybe_convert_objects\" has incompatible type\u001b[39;00m\n\u001b[1;32m    721\u001b[0m     \u001b[39m# \"Union[ExtensionArray, ndarray[Any, Any]]\"; expected\u001b[39;00m\n\u001b[1;32m    722\u001b[0m     \u001b[39m# \"ndarray[Any, Any]\"\u001b[39;00m\n\u001b[1;32m    723\u001b[0m     values \u001b[39m=\u001b[39m lib\u001b[39m.\u001b[39mmaybe_convert_objects(result\u001b[39m.\u001b[39m_values)  \u001b[39m# type: ignore[arg-type]\u001b[39;00m\n",
      "File \u001b[0;32m/nix/store/s3kvkvkghrzfqb5wzn1nzyk1105xz7kj-python3.11-pandas-1.5.2/lib/python3.11/site-packages/pandas/core/indexes/base.py:546\u001b[0m, in \u001b[0;36mIndex.__new__\u001b[0;34m(cls, data, dtype, copy, name, tupleize_cols, **kwargs)\u001b[0m\n\u001b[1;32m    543\u001b[0m     \u001b[39mreturn\u001b[39;00m klass\u001b[39m.\u001b[39m_simple_new(arr, name)\n\u001b[1;32m    545\u001b[0m \u001b[39melif\u001b[39;00m is_scalar(data):\n\u001b[0;32m--> 546\u001b[0m     \u001b[39mraise\u001b[39;00m \u001b[39mcls\u001b[39m\u001b[39m.\u001b[39m_scalar_data_error(data)\n\u001b[1;32m    547\u001b[0m \u001b[39melif\u001b[39;00m \u001b[39mhasattr\u001b[39m(data, \u001b[39m\"\u001b[39m\u001b[39m__array__\u001b[39m\u001b[39m\"\u001b[39m):\n\u001b[1;32m    548\u001b[0m     \u001b[39mreturn\u001b[39;00m Index(np\u001b[39m.\u001b[39masarray(data), dtype\u001b[39m=\u001b[39mdtype, copy\u001b[39m=\u001b[39mcopy, name\u001b[39m=\u001b[39mname, \u001b[39m*\u001b[39m\u001b[39m*\u001b[39mkwargs)\n",
      "\u001b[0;31mTypeError\u001b[0m: Index(...) must be called with a collection of some kind, False was passed"
     ]
    }
   ],
   "source": [
    "def merge_times(in_t: pd.DataFrame, out_t: pd.DataFrame):\n",
    "    # out_t and in_t have the same layout:\n",
    "    #  - EmployeeID\n",
    "    #  - 2015-01-01_x\n",
    "    #  - 2015-01-02_x\n",
    "    #  - 2015-01-03_x\n",
    "    #  - ...\n",
    "\n",
    "    # We want to merge them on EmployeeID and Date labels (labels are the same)\n",
    "    # We can merge each row with the corresponding row, and it would be better if the layout looked like this:\n",
    "    # - EmployeeID\n",
    "    # - in_2015-01-01_x\n",
    "    # - out_2015-01-01_x\n",
    "    # - in_2015-01-02_x\n",
    "    # - out_2015-01-02_x\n",
    "    # - ...\n",
    "\n",
    "    in_t = in_t.copy()\n",
    "    out_t = out_t.copy()\n",
    "\n",
    "    # rename columns to in_ and out_ to make it easier to understand (keep EmployeeID as is)\n",
    "    in_t.columns = ['EmployeeID'] + ['in_' + col for col in in_t.columns[1:]]\n",
    "    out_t.columns = ['EmployeeID'] + \\\n",
    "        ['out_' + col for col in out_t.columns[1:]]\n",
    "\n",
    "    in_out_times = pd.merge(in_t, out_t, on='EmployeeID')\n",
    "    return in_out_times\n",
    "\n",
    "\n",
    "in_out_time = merge_times(in_time, out_time)\n",
    "\n",
    "PROCESS_DIR = 'data/processed'\n",
    "if not os.path.exists(PROCESS_DIR):\n",
    "    os.makedirs(PROCESS_DIR)\n",
    "\n",
    "in_out_time.to_csv(os.path.join(PROCESS_DIR, 'in_out_time.csv'), index=False)\n",
    "in_out_time.head(1)\n"
   ]
  }
 ],
 "metadata": {
  "kernelspec": {
   "display_name": "Python 3 (ipykernel)",
   "language": "python",
   "name": "python3"
  },
  "language_info": {
   "codemirror_mode": {
    "name": "ipython",
    "version": 3
   },
   "file_extension": ".py",
   "mimetype": "text/x-python",
   "name": "python",
   "nbconvert_exporter": "python",
   "pygments_lexer": "ipython3",
   "version": "3.11.2"
  }
 },
 "nbformat": 4,
 "nbformat_minor": 5
}
